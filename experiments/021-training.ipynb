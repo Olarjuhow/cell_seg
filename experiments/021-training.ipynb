{
 "cells": [
  {
   "cell_type": "markdown",
   "metadata": {},
   "source": [
    "# Step 02\n",
    "# Training a U-Net model"
   ]
  },
  {
   "cell_type": "code",
   "execution_count": 1,
   "metadata": {},
   "outputs": [
    {
     "name": "stderr",
     "output_type": "stream",
     "text": [
      "Using TensorFlow backend.\n"
     ]
    }
   ],
   "source": [
    "%matplotlib inline\n",
    "\n",
    "import sys\n",
    "import os\n",
    "\n",
    "import numpy as np\n",
    "import skimage.io\n",
    "\n",
    "import tensorflow as tf\n",
    "\n",
    "import keras.backend\n",
    "import keras.callbacks\n",
    "import keras.layers\n",
    "import keras.models\n",
    "import keras.optimizers\n",
    "\n",
    "import sys\n",
    "__file__ = '012-prerpocessing.ipynb'\n",
    "sys.path.append(os.path.dirname(os.path.dirname(os.path.abspath(__file__))))\n",
    "\n",
    "import utils.model_builder\n",
    "import utils.data_provider\n",
    "import utils.metrics\n",
    "import utils.objectives\n",
    "import utils.dirtools\n",
    "\n",
    "import random\n",
    "# Uncomment the following line if you don't have a GPU\n",
    "# os.environ['CUDA_VISIBLE_DEVICES'] = ''"
   ]
  },
  {
   "cell_type": "code",
   "execution_count": 2,
   "metadata": {},
   "outputs": [],
   "source": [
    "os.environ[\"CUDA_VISIBLE_DEVICES\"] = \"0, 1\""
   ]
  },
  {
   "cell_type": "code",
   "execution_count": null,
   "metadata": {},
   "outputs": [],
   "source": [
    "from tensorflow.python.client import device_lib\n",
    "print(device_lib.list_local_devices())"
   ]
  },
  {
   "cell_type": "markdown",
   "metadata": {},
   "source": [
    "# Configuration"
   ]
  },
  {
   "cell_type": "code",
   "execution_count": 4,
   "metadata": {},
   "outputs": [],
   "source": [
    "from config import config_vars"
   ]
  },
  {
   "cell_type": "code",
   "execution_count": 5,
   "metadata": {},
   "outputs": [],
   "source": [
    "# operate on which dataset? write it here\n",
    "config_vars[\"root_directory\"] = '../CELL/seg_samples_KZ_images/'\n",
    "\n",
    "experiment_name = '00'\n",
    "config_vars = utils.dirtools.setup_experiment(config_vars, experiment_name)"
   ]
  },
  {
   "cell_type": "code",
   "execution_count": 5,
   "metadata": {},
   "outputs": [
    {
     "data": {
      "text/plain": [
       "{'root_directory': 'FISH/',\n",
       " 'max_training_images': 0,\n",
       " 'create_split_files': True,\n",
       " 'training_fraction': 0.8,\n",
       " 'validation_fraction': 0.1,\n",
       " 'transform_images_to_PNG': True,\n",
       " 'pixel_depth': 8,\n",
       " 'min_nucleus_size': 25,\n",
       " 'boundary_size': 2,\n",
       " 'augment_images': False,\n",
       " 'elastic_points': 16,\n",
       " 'elastic_distortion': 5,\n",
       " 'elastic_augmentations': 10,\n",
       " 'learning_rate': 0.0001,\n",
       " 'epochs': 15,\n",
       " 'steps_per_epoch': 500,\n",
       " 'batch_size': 10,\n",
       " 'val_batch_size': 10,\n",
       " 'rescale_labels': True,\n",
       " 'crop_size': 256,\n",
       " 'cell_min_size': 16,\n",
       " 'boundary_boost_factor': 1,\n",
       " 'object_dilation': 3,\n",
       " 'raw_images_dir': 'FISH/raw_images/',\n",
       " 'raw_annotations_dir': 'FISH/raw_annotations/',\n",
       " 'path_files_training': 'FISH/training.txt',\n",
       " 'path_files_validation': 'FISH/validation.txt',\n",
       " 'path_files_test': 'FISH/test.txt',\n",
       " 'normalized_images_dir': 'FISH/norm_images/',\n",
       " 'boundary_labels_dir': 'FISH/boundary_labels/',\n",
       " 'experiment_dir': 'FISH/experiments/00/out/',\n",
       " 'probmap_out_dir': 'FISH/experiments/00/out/prob/',\n",
       " 'labels_out_dir': 'FISH/experiments/00/out/segm/',\n",
       " 'model_file': 'FISH/experiments/00/model.hdf5',\n",
       " 'csv_log_file': 'FISH/experiments/00/log.csv'}"
      ]
     },
     "execution_count": 5,
     "metadata": {},
     "output_type": "execute_result"
    }
   ],
   "source": [
    "config_vars"
   ]
  },
  {
   "cell_type": "markdown",
   "metadata": {},
   "source": [
    "### Set the train-validation split List"
   ]
  },
  {
   "cell_type": "markdown",
   "metadata": {},
   "source": [
    "##### exp 00\n",
    "train_aug: 有机标图的前48张图  \n",
    "用其余图训练，然后在这48张图上valid\n",
    "##### exp 01\n",
    "只使用剩余图里随机的24张做训练，随机24张做测试  \n",
    "加入或者不加入机标图的数据会产生什么影响"
   ]
  },
  {
   "cell_type": "code",
   "execution_count": 6,
   "metadata": {},
   "outputs": [],
   "source": [
    "# 00\n",
    "def create_image_lists(dir_raw_images):\n",
    "    file_list = os.listdir(dir_raw_images)\n",
    "    image_list = [x for x in file_list if x.endswith(\"png\")]\n",
    "    image_list = sorted(image_list)\n",
    "\n",
    "    image_list_train_aug = image_list[:48]\n",
    "    image_list_validation = image_list[:48]\n",
    "    image_list_test = []\n",
    "    image_list_train = image_list[48:]\n",
    "\n",
    "    return image_list_train, image_list_test, image_list_validation, image_list_train_aug"
   ]
  },
  {
   "cell_type": "code",
   "execution_count": 5,
   "metadata": {},
   "outputs": [],
   "source": [
    "# 01\n",
    "def create_image_lists(dir_raw_images):\n",
    "    file_list = os.listdir(dir_raw_images)\n",
    "    image_list = [x for x in file_list if x.endswith(\"png\")]\n",
    "    image_list = sorted(image_list)\n",
    "\n",
    "    image_list_train_aug = image_list[:48]\n",
    "    image_list_test = []\n",
    "    \n",
    "    image_list_2 = image_list[48:]\n",
    "    random.shuffle(image_list_2)\n",
    "    image_list_train = image_list_2[:24]\n",
    "    image_list_validation = image_list_2[-24:]\n",
    "    \n",
    "    return image_list_train, image_list_test, image_list_validation, image_list_train_aug"
   ]
  },
  {
   "cell_type": "markdown",
   "metadata": {},
   "source": [
    "#### 将每一部分(train valid)的数据的名字写进一个list，通过data_partitions字典读取"
   ]
  },
  {
   "cell_type": "code",
   "execution_count": 7,
   "metadata": {},
   "outputs": [],
   "source": [
    "config_vars[\"path_files_training_aug\"] = 'FISH/training_aug.txt'"
   ]
  },
  {
   "cell_type": "code",
   "execution_count": 8,
   "metadata": {},
   "outputs": [],
   "source": [
    "# Prepare split txt files\n",
    "[list_training, list_test, list_validation, list_training_aug] = create_image_lists(\n",
    "    config_vars[\"normalized_images_dir\"],\n",
    "#         config_vars[\"training_fraction\"],\n",
    "#         config_vars[\"validation_fraction\"]\n",
    ")\n",
    "\n",
    "utils.dirtools.write_path_files(config_vars[\"path_files_training\"], list_training)\n",
    "utils.dirtools.write_path_files(config_vars[\"path_files_test\"], list_test)\n",
    "utils.dirtools.write_path_files(config_vars[\"path_files_validation\"], list_validation)\n",
    "\n",
    "# modify the write path method to add 'raw_masks/' ahead of the name\n",
    "utils.dirtools.write_path_files2(config_vars[\"path_files_training_aug\"], list_training_aug)\n",
    "    \n",
    "data_partitions = utils.dirtools.read_data_partitions(config_vars, load_augmented=False)"
   ]
  },
  {
   "cell_type": "code",
   "execution_count": 9,
   "metadata": {},
   "outputs": [],
   "source": [
    "data_partitions = utils.dirtools.read_data_partitions(config_vars)"
   ]
  },
  {
   "cell_type": "markdown",
   "metadata": {},
   "source": [
    "#### add raw masks into training set"
   ]
  },
  {
   "cell_type": "code",
   "execution_count": 9,
   "metadata": {},
   "outputs": [],
   "source": [
    "with open(config_vars[\"path_files_training_aug\"]) as f:\n",
    "    data_partitions[\"training\"] += f.read().splitlines()\n",
    " "
   ]
  },
  {
   "cell_type": "code",
   "execution_count": null,
   "metadata": {},
   "outputs": [],
   "source": [
    "data_partitions[\"training\"]"
   ]
  },
  {
   "cell_type": "markdown",
   "metadata": {},
   "source": [
    "# Initiate data generators"
   ]
  },
  {
   "cell_type": "code",
   "execution_count": 10,
   "metadata": {},
   "outputs": [],
   "source": [
    "# build session running on GPU 1\n",
    "configuration = tf.ConfigProto()\n",
    "configuration.gpu_options.allow_growth = True\n",
    "configuration.gpu_options.visible_device_list = \"0, 1\"\n",
    "session = tf.Session(config = configuration)\n",
    "\n",
    "# apply session\n",
    "keras.backend.set_session(session)\n",
    "\n",
    "train_gen = utils.data_provider.random_sample_generator(\n",
    "    config_vars[\"normalized_images_dir\"],\n",
    "    config_vars[\"boundary_labels_dir\"],\n",
    "    data_partitions[\"training\"],\n",
    "    config_vars[\"batch_size\"],\n",
    "    config_vars[\"pixel_depth\"],\n",
    "    config_vars[\"crop_size\"],\n",
    "    config_vars[\"crop_size\"],\n",
    "    config_vars[\"rescale_labels\"]\n",
    ")\n",
    "\n",
    "val_gen = utils.data_provider.single_data_from_images(\n",
    "     config_vars[\"normalized_images_dir\"],\n",
    "     config_vars[\"boundary_labels_dir\"],\n",
    "     data_partitions[\"validation\"],\n",
    "     config_vars[\"val_batch_size\"],\n",
    "     config_vars[\"pixel_depth\"],\n",
    "     config_vars[\"crop_size\"],\n",
    "     config_vars[\"crop_size\"],\n",
    "     config_vars[\"rescale_labels\"]\n",
    ")"
   ]
  },
  {
   "cell_type": "markdown",
   "metadata": {},
   "source": [
    "# Build model"
   ]
  },
  {
   "cell_type": "code",
   "execution_count": 11,
   "metadata": {},
   "outputs": [],
   "source": [
    "import warnings\n",
    "warnings.filterwarnings(\"ignore\")"
   ]
  },
  {
   "cell_type": "code",
   "execution_count": 12,
   "metadata": {
    "scrolled": false
   },
   "outputs": [],
   "source": [
    "# build model\n",
    "model = utils.model_builder.get_model_3_class(config_vars[\"crop_size\"], config_vars[\"crop_size\"], activation=None)\n",
    "# model.summary()\n",
    "\n",
    "#loss = \"categorical_crossentropy\"\n",
    "loss = utils.objectives.weighted_crossentropy\n",
    "\n",
    "metrics = [keras.metrics.categorical_accuracy, \n",
    "           utils.metrics.channel_recall(channel=0, name=\"background_recall\"), \n",
    "           utils.metrics.channel_precision(channel=0, name=\"background_precision\"),\n",
    "           utils.metrics.channel_recall(channel=1, name=\"interior_recall\"), \n",
    "           utils.metrics.channel_precision(channel=1, name=\"interior_precision\"),\n",
    "           utils.metrics.channel_recall(channel=2, name=\"boundary_recall\"), \n",
    "           utils.metrics.channel_precision(channel=2, name=\"boundary_precision\"),\n",
    "          ]\n",
    "\n",
    "optimizer = keras.optimizers.RMSprop(lr=config_vars[\"learning_rate\"])\n",
    "\n",
    "model.compile(loss=loss, metrics=metrics, optimizer=optimizer)"
   ]
  },
  {
   "cell_type": "code",
   "execution_count": 13,
   "metadata": {
    "scrolled": false
   },
   "outputs": [],
   "source": [
    "# Performance logging\n",
    "callback_csv = keras.callbacks.CSVLogger(filename=config_vars[\"csv_log_file\"])"
   ]
  },
  {
   "cell_type": "code",
   "execution_count": 14,
   "metadata": {},
   "outputs": [
    {
     "data": {
      "text/plain": [
       "[<keras.callbacks.CSVLogger at 0x7f4bca732dd8>,\n",
       " <keras.callbacks.TensorBoard at 0x7f4bca73f278>]"
      ]
     },
     "execution_count": 14,
     "metadata": {},
     "output_type": "execute_result"
    }
   ],
   "source": [
    "callback_tboard = keras.callbacks.TensorBoard(log_dir='./logs/00/0', histogram_freq=0, batch_size=32, write_graph=True, write_grads=False, write_images=True, update_freq='epoch')\n",
    "\n",
    "callbacks = [callback_csv, callback_tboard]\n",
    "callbacks"
   ]
  },
  {
   "cell_type": "markdown",
   "metadata": {},
   "source": [
    "# Training "
   ]
  },
  {
   "cell_type": "code",
   "execution_count": 15,
   "metadata": {
    "scrolled": true
   },
   "outputs": [
    {
     "name": "stdout",
     "output_type": "stream",
     "text": [
      "Epoch 1/15\n",
      "Training with 291 images.\n",
      "500/500 [==============================] - 159s 317ms/step - loss: 0.1853 - categorical_accuracy: 0.9602 - background_recall: 0.9716 - background_precision: 0.9980 - interior_recall: 0.9176 - interior_precision: 0.9773 - boundary_recall: 0.9727 - boundary_precision: 0.6694 - val_loss: 0.2757 - val_categorical_accuracy: 0.9452 - val_background_recall: 0.9521 - val_background_precision: 0.9992 - val_interior_recall: 0.9112 - val_interior_precision: 0.8870 - val_boundary_recall: 0.9583 - val_boundary_precision: 0.6207\n",
      "Epoch 2/15\n",
      "500/500 [==============================] - 154s 308ms/step - loss: 0.1261 - categorical_accuracy: 0.9729 - background_recall: 0.9821 - background_precision: 0.9991 - interior_recall: 0.9404 - interior_precision: 0.9810 - boundary_recall: 0.9771 - boundary_precision: 0.7387 - val_loss: 0.2686 - val_categorical_accuracy: 0.9454 - val_background_recall: 0.9477 - val_background_precision: 0.9993 - val_interior_recall: 0.9353 - val_interior_precision: 0.8841 - val_boundary_recall: 0.9449 - val_boundary_precision: 0.6344\n",
      "Epoch 3/15\n",
      "500/500 [==============================] - 153s 306ms/step - loss: 0.1175 - categorical_accuracy: 0.9749 - background_recall: 0.9828 - background_precision: 0.9991 - interior_recall: 0.9475 - interior_precision: 0.9796 - boundary_recall: 0.9777 - boundary_precision: 0.7593 - val_loss: 0.2262 - val_categorical_accuracy: 0.9541 - val_background_recall: 0.9558 - val_background_precision: 0.9997 - val_interior_recall: 0.9448 - val_interior_precision: 0.8940 - val_boundary_recall: 0.9592 - val_boundary_precision: 0.6687\n",
      "Epoch 4/15\n",
      "500/500 [==============================] - 153s 306ms/step - loss: 0.1110 - categorical_accuracy: 0.9766 - background_recall: 0.9843 - background_precision: 0.9993 - interior_recall: 0.9501 - interior_precision: 0.9811 - boundary_recall: 0.9768 - boundary_precision: 0.7699 - val_loss: 0.2637 - val_categorical_accuracy: 0.9491 - val_background_recall: 0.9518 - val_background_precision: 0.9996 - val_interior_recall: 0.9414 - val_interior_precision: 0.8892 - val_boundary_recall: 0.9376 - val_boundary_precision: 0.6484\n",
      "Epoch 5/15\n",
      "500/500 [==============================] - 153s 306ms/step - loss: 0.1070 - categorical_accuracy: 0.9778 - background_recall: 0.9849 - background_precision: 0.9994 - interior_recall: 0.9541 - interior_precision: 0.9814 - boundary_recall: 0.9770 - boundary_precision: 0.7811 - val_loss: 0.2530 - val_categorical_accuracy: 0.9511 - val_background_recall: 0.9508 - val_background_precision: 0.9996 - val_interior_recall: 0.9482 - val_interior_precision: 0.8846 - val_boundary_recall: 0.9605 - val_boundary_precision: 0.6775\n",
      "Epoch 6/15\n",
      "500/500 [==============================] - 153s 306ms/step - loss: 0.1051 - categorical_accuracy: 0.9789 - background_recall: 0.9855 - background_precision: 0.9991 - interior_recall: 0.9574 - interior_precision: 0.9820 - boundary_recall: 0.9773 - boundary_precision: 0.7929 - val_loss: 0.2688 - val_categorical_accuracy: 0.9524 - val_background_recall: 0.9501 - val_background_precision: 0.9997 - val_interior_recall: 0.9661 - val_interior_precision: 0.8827 - val_boundary_recall: 0.9414 - val_boundary_precision: 0.6822\n",
      "Epoch 7/15\n",
      "500/500 [==============================] - 153s 306ms/step - loss: 0.1051 - categorical_accuracy: 0.9788 - background_recall: 0.9854 - background_precision: 0.9990 - interior_recall: 0.9570 - interior_precision: 0.9812 - boundary_recall: 0.9769 - boundary_precision: 0.7942 - val_loss: 0.2595 - val_categorical_accuracy: 0.9530 - val_background_recall: 0.9500 - val_background_precision: 0.9996 - val_interior_recall: 0.9661 - val_interior_precision: 0.8820 - val_boundary_recall: 0.9522 - val_boundary_precision: 0.6933\n",
      "Epoch 8/15\n",
      "500/500 [==============================] - 153s 306ms/step - loss: 0.1013 - categorical_accuracy: 0.9796 - background_recall: 0.9857 - background_precision: 0.9993 - interior_recall: 0.9597 - interior_precision: 0.9811 - boundary_recall: 0.9768 - boundary_precision: 0.8001 - val_loss: 0.2654 - val_categorical_accuracy: 0.9517 - val_background_recall: 0.9524 - val_background_precision: 0.9996 - val_interior_recall: 0.9560 - val_interior_precision: 0.8909 - val_boundary_recall: 0.9286 - val_boundary_precision: 0.6776\n",
      "Epoch 9/15\n",
      "500/500 [==============================] - 154s 307ms/step - loss: 0.0983 - categorical_accuracy: 0.9808 - background_recall: 0.9868 - background_precision: 0.9991 - interior_recall: 0.9614 - interior_precision: 0.9828 - boundary_recall: 0.9775 - boundary_precision: 0.8092 - val_loss: 0.2364 - val_categorical_accuracy: 0.9567 - val_background_recall: 0.9541 - val_background_precision: 0.9996 - val_interior_recall: 0.9704 - val_interior_precision: 0.8900 - val_boundary_recall: 0.9472 - val_boundary_precision: 0.7103\n",
      "Epoch 10/15\n",
      "500/500 [==============================] - 153s 306ms/step - loss: 0.0974 - categorical_accuracy: 0.9805 - background_recall: 0.9866 - background_precision: 0.9993 - interior_recall: 0.9608 - interior_precision: 0.9826 - boundary_recall: 0.9767 - boundary_precision: 0.8061 - val_loss: 0.2723 - val_categorical_accuracy: 0.9521 - val_background_recall: 0.9498 - val_background_precision: 0.9996 - val_interior_recall: 0.9643 - val_interior_precision: 0.8798 - val_boundary_recall: 0.9436 - val_boundary_precision: 0.6988\n",
      "Epoch 11/15\n",
      "500/500 [==============================] - 153s 306ms/step - loss: 0.0958 - categorical_accuracy: 0.9812 - background_recall: 0.9870 - background_precision: 0.9993 - interior_recall: 0.9627 - interior_precision: 0.9826 - boundary_recall: 0.9772 - boundary_precision: 0.8125 - val_loss: 0.2482 - val_categorical_accuracy: 0.9558 - val_background_recall: 0.9562 - val_background_precision: 0.9992 - val_interior_recall: 0.9604 - val_interior_precision: 0.8895 - val_boundary_recall: 0.9360 - val_boundary_precision: 0.6977\n",
      "Epoch 12/15\n",
      "500/500 [==============================] - 153s 306ms/step - loss: 0.0954 - categorical_accuracy: 0.9814 - background_recall: 0.9872 - background_precision: 0.9993 - interior_recall: 0.9631 - interior_precision: 0.9832 - boundary_recall: 0.9774 - boundary_precision: 0.8156 - val_loss: 0.3168 - val_categorical_accuracy: 0.9494 - val_background_recall: 0.9451 - val_background_precision: 0.9994 - val_interior_recall: 0.9755 - val_interior_precision: 0.8715 - val_boundary_recall: 0.9249 - val_boundary_precision: 0.6994\n",
      "Epoch 13/15\n",
      "500/500 [==============================] - 153s 306ms/step - loss: 0.0941 - categorical_accuracy: 0.9815 - background_recall: 0.9874 - background_precision: 0.9993 - interior_recall: 0.9628 - interior_precision: 0.9833 - boundary_recall: 0.9769 - boundary_precision: 0.8151 - val_loss: 0.2627 - val_categorical_accuracy: 0.9564 - val_background_recall: 0.9555 - val_background_precision: 0.9996 - val_interior_recall: 0.9676 - val_interior_precision: 0.8867 - val_boundary_recall: 0.9333 - val_boundary_precision: 0.7100\n",
      "Epoch 14/15\n",
      "500/500 [==============================] - 153s 306ms/step - loss: 0.0967 - categorical_accuracy: 0.9811 - background_recall: 0.9872 - background_precision: 0.9991 - interior_recall: 0.9619 - interior_precision: 0.9828 - boundary_recall: 0.9770 - boundary_precision: 0.8140 - val_loss: 0.2552 - val_categorical_accuracy: 0.9577 - val_background_recall: 0.9532 - val_background_precision: 0.9997 - val_interior_recall: 0.9784 - val_interior_precision: 0.8860 - val_boundary_recall: 0.9552 - val_boundary_precision: 0.7258\n",
      "Epoch 15/15\n",
      "500/500 [==============================] - 153s 306ms/step - loss: 0.0953 - categorical_accuracy: 0.9812 - background_recall: 0.9874 - background_precision: 0.9992 - interior_recall: 0.9616 - interior_precision: 0.9835 - boundary_recall: 0.9773 - boundary_precision: 0.8138 - val_loss: 0.2886 - val_categorical_accuracy: 0.9530 - val_background_recall: 0.9497 - val_background_precision: 0.9996 - val_interior_recall: 0.9730 - val_interior_precision: 0.8816 - val_boundary_recall: 0.9337 - val_boundary_precision: 0.7061\n",
      "Done! :)\n"
     ]
    }
   ],
   "source": [
    "# TRAIN\n",
    "statistics = model.fit_generator(\n",
    "    generator=train_gen,\n",
    "    steps_per_epoch=config_vars[\"steps_per_epoch\"],\n",
    "    epochs=config_vars[\"epochs\"],\n",
    "    validation_data=val_gen,\n",
    "    validation_steps=int(len(data_partitions[\"validation\"])/config_vars[\"val_batch_size\"]),\n",
    "    callbacks=callbacks,\n",
    "    verbose = 1\n",
    ")\n",
    "\n",
    "model.save_weights(config_vars[\"model_file\"])\n",
    "\n",
    "print('Done! :)')"
   ]
  },
  {
   "cell_type": "markdown",
   "metadata": {},
   "source": [
    "### Continue training by load existing model, and train on augmentation matlab-labelled images"
   ]
  }
 ],
 "metadata": {
  "kernelspec": {
   "display_name": "Python 3",
   "language": "python",
   "name": "python3"
  },
  "language_info": {
   "codemirror_mode": {
    "name": "ipython",
    "version": 3
   },
   "file_extension": ".py",
   "mimetype": "text/x-python",
   "name": "python",
   "nbconvert_exporter": "python",
   "pygments_lexer": "ipython3",
   "version": "3.6.8"
  }
 },
 "nbformat": 4,
 "nbformat_minor": 2
}
