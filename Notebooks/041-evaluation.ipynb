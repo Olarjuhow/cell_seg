{
 "cells": [
  {
   "cell_type": "markdown",
   "metadata": {},
   "source": [
    "# Step 04\n",
    "# Evaluation of performance"
   ]
  },
  {
   "cell_type": "code",
   "execution_count": 62,
   "metadata": {},
   "outputs": [],
   "source": [
    "%matplotlib inline"
   ]
  },
  {
   "cell_type": "code",
   "execution_count": 63,
   "metadata": {},
   "outputs": [],
   "source": [
    "import os\n",
    "\n",
    "import matplotlib.pyplot as plt\n",
    "import numpy as np\n",
    "import pandas as pd\n",
    "import seaborn as sb\n",
    "\n",
    "import skimage.io\n",
    "import skimage.morphology\n",
    "import skimage.segmentation\n",
    "\n",
    "import utils.evaluation"
   ]
  },
  {
   "cell_type": "markdown",
   "metadata": {},
   "source": [
    "### Configuration"
   ]
  },
  {
   "cell_type": "code",
   "execution_count": 64,
   "metadata": {},
   "outputs": [],
   "source": [
    "from my_config import config_vars\n",
    "\n",
    "# Partition of the data to make predictions (test or validation)\n",
    "partition = \"validation\"\n",
    "\n",
    "experiment_name = '00'\n",
    "\n",
    "config_vars = utils.dirtools.setup_experiment(config_vars, experiment_name)\n",
    "\n",
    "data_partitions = utils.dirtools.read_data_partitions(config_vars)  # read filename list"
   ]
  },
  {
   "cell_type": "code",
   "execution_count": 4,
   "metadata": {},
   "outputs": [
    {
     "data": {
      "text/plain": [
       "{'root_directory': 'FISH/',\n",
       " 'max_training_images': 0,\n",
       " 'create_split_files': True,\n",
       " 'training_fraction': 0.8,\n",
       " 'validation_fraction': 0.1,\n",
       " 'transform_images_to_PNG': True,\n",
       " 'pixel_depth': 8,\n",
       " 'min_nucleus_size': 25,\n",
       " 'boundary_size': 2,\n",
       " 'augment_images': False,\n",
       " 'elastic_points': 16,\n",
       " 'elastic_distortion': 5,\n",
       " 'elastic_augmentations': 10,\n",
       " 'learning_rate': 0.0001,\n",
       " 'epochs': 15,\n",
       " 'steps_per_epoch': 500,\n",
       " 'batch_size': 10,\n",
       " 'val_batch_size': 10,\n",
       " 'rescale_labels': True,\n",
       " 'crop_size': 256,\n",
       " 'cell_min_size': 16,\n",
       " 'boundary_boost_factor': 1,\n",
       " 'object_dilation': 3,\n",
       " 'raw_images_dir': 'FISH/raw_images/',\n",
       " 'raw_annotations_dir': 'FISH/raw_annotations/',\n",
       " 'path_files_training': 'FISH/training.txt',\n",
       " 'path_files_validation': 'FISH/validation.txt',\n",
       " 'path_files_test': 'FISH/test.txt',\n",
       " 'normalized_images_dir': 'FISH/norm_images/',\n",
       " 'boundary_labels_dir': 'FISH/boundary_labels/',\n",
       " 'experiment_dir': 'FISH/experiments/00/out/',\n",
       " 'probmap_out_dir': 'FISH/experiments/00/out/prob/',\n",
       " 'labels_out_dir': 'FISH/experiments/00/out/segm/',\n",
       " 'model_file': 'FISH/experiments/00/model.hdf5',\n",
       " 'csv_log_file': 'FISH/experiments/00/log.csv'}"
      ]
     },
     "execution_count": 4,
     "metadata": {},
     "output_type": "execute_result"
    }
   ],
   "source": [
    "config_vars"
   ]
  },
  {
   "cell_type": "code",
   "execution_count": 4,
   "metadata": {},
   "outputs": [],
   "source": [
    "# To evaluate segmentations produced by other segmentation algorithms (e.g. CellProfiler), \n",
    "# manually modify the following config var:\n",
    "\n",
    "#config_vars[\"labels_out_dir\"] = \"/data/cellprofiler_segmentations/\"\n",
    "#config_vars[\"object_dilation\"] = 2"
   ]
  },
  {
   "cell_type": "markdown",
   "metadata": {},
   "source": [
    "### Auxiliary visualization function"
   ]
  },
  {
   "cell_type": "code",
   "execution_count": 65,
   "metadata": {},
   "outputs": [],
   "source": [
    "# Display prediction along with segmentation to visualize errors\n",
    "\n",
    "def show(ground_truth, prediction, threshold=0.5, image_name=\"N\"):\n",
    "    \n",
    "    # Compute Intersection over Union\n",
    "    IOU = utils.evaluation.intersection_over_union(ground_truth, prediction)\n",
    "    \n",
    "    # Create diff map\n",
    "    diff = np.zeros(ground_truth.shape + (3,))  # become 3 channels\n",
    "    A = ground_truth.copy()\n",
    "    B = prediction.copy()\n",
    "    A[A > 0] = 1\n",
    "    B[B > 0] = 1\n",
    "    D = A - B\n",
    "    #diff[D > 0,:2] = 1\n",
    "    #diff[D < 0,1:] = 1\n",
    "    \n",
    "    # Object-level errors\n",
    "    C = IOU.copy()\n",
    "    C[C>=threshold] = 1\n",
    "    C[C<threshold] = 0\n",
    "    missed = np.where(np.sum(C,axis=1) == 0)[0]\n",
    "    extra = np.where(np.sum(C,axis=0) == 0)[0]\n",
    "\n",
    "    for m in missed:\n",
    "        diff[ground_truth == m+1, 0] = 1\n",
    "    for e in extra:\n",
    "        diff[prediction == e+1, 2] = 1\n",
    "    \n",
    "    # Display figures\n",
    "    fig, ax = plt.subplots(1, 4, figsize=(18,6))\n",
    "    ax[0].imshow(ground_truth)\n",
    "    ax[0].set_title(\"True objects:\"+str(len(np.unique(ground_truth))))\n",
    "    ax[1].imshow(diff)\n",
    "    ax[1].set_title(\"Segmentation errors:\"+str(len(missed)))\n",
    "    ax[2].imshow(prediction)\n",
    "    ax[2].set_title(\"Predicted objects:\"+str(len(np.unique(prediction))))\n",
    "    ax[3].imshow(IOU)\n",
    "    ax[3].set_title(image_name)"
   ]
  },
  {
   "cell_type": "markdown",
   "metadata": {},
   "source": [
    "### Run the evaluation\n",
    "Predictions are the ones stored in Step 03 and loaded here for evaluation calculations  \n",
    "label the ground truth(raw annotations) and compare with the predicted labels"
   ]
  },
  {
   "cell_type": "code",
   "execution_count": 66,
   "metadata": {
    "scrolled": true
   },
   "outputs": [
    {
     "name": "stderr",
     "output_type": "stream",
     "text": [
      "/home/lanbowen23/Instance/unet4nuclei/unet4nuclei/utils/evaluation.py:92: FutureWarning: Sorting because non-concatenation axis is not aligned. A future version\n",
      "of pandas will change to not sort by default.\n",
      "\n",
      "To accept the future behavior, pass 'sort=False'.\n",
      "\n",
      "To retain the current behavior and silence the warning, pass 'sort=True'.\n",
      "\n",
      "  results = pd.concat([results, pd.DataFrame(data=data.T, columns=[\"Area\", \"False_Negative\"])])\n"
     ]
    },
    {
     "data": {
      "image/png": "[encoded data removed]",
      "text/plain": [
       "<Figure size 1296x432 with 4 Axes>"
      ]
     },
     "metadata": {
      "needs_background": "light"
     },
     "output_type": "display_data"
    }
   ],
   "source": [
    "all_images = data_partitions[partition]  # validation\n",
    "\n",
    "results = pd.DataFrame(columns=[\"Image\", \"Threshold\", \"F1\", \"Jaccard\", \"TP\", \"FP\", \"FN\"])\n",
    "false_negatives = pd.DataFrame(columns=[\"False_Negative\", \"Area\"])\n",
    "splits_merges = pd.DataFrame(columns=[\"Image_Name\", \"Merges\", \"Splits\"])\n",
    "\n",
    "for image_name in all_images:\n",
    "    # Load ground truth data\n",
    "    img_filename = os.path.join(config_vars[\"raw_annotations_dir\"], image_name)\n",
    "    ground_truth = skimage.io.imread(img_filename)\n",
    "    if len(ground_truth.shape) == 3:\n",
    "        ground_truth = ground_truth[:,:,0]\n",
    "    \n",
    "    # Transform to label matrix\n",
    "    ground_truth = skimage.morphology.label(ground_truth)\n",
    "    \n",
    "    # Load predictions\n",
    "    pred_filename = os.path.join(config_vars[\"labels_out_dir\"], image_name)\n",
    "#     prediction = skimage.io.imread(pred_filename.replace(\".png\",\".tif\"))\n",
    "    prediction = skimage.io.imread(pred_filename)\n",
    "\n",
    "    \n",
    "    # Apply object dilation\n",
    "    if config_vars[\"object_dilation\"] > 0:\n",
    "        struct = skimage.morphology.square(config_vars[\"object_dilation\"])\n",
    "        prediction = skimage.morphology.dilation(prediction, struct)\n",
    "    elif config_vars[\"object_dilation\"] < 0:\n",
    "        struct = skimage.morphology.square(-config_vars[\"object_dilation\"])\n",
    "        prediction = skimage.morphology.erosion(prediction, struct)\n",
    "        \n",
    "    # Relabel objects (cut margin of 30 pixels to make a fair comparison with DeepCell)\n",
    "    ground_truth = skimage.segmentation.relabel_sequential(ground_truth)[0] #[30:-30,30:-30])[0]\n",
    "    prediction = skimage.segmentation.relabel_sequential(prediction)[0] #[30:-30,30:-30])[0]\n",
    "    \n",
    "    # Compute evaluation metrics\n",
    "    # Add result into pd dataframe one by one\n",
    "    results = utils.evaluation.compute_af1_results(\n",
    "        ground_truth, \n",
    "        prediction, \n",
    "        results, \n",
    "        image_name\n",
    "    )\n",
    "    \n",
    "    false_negatives = utils.evaluation.get_false_negatives(\n",
    "        ground_truth, \n",
    "        prediction, \n",
    "        false_negatives, \n",
    "        image_name\n",
    "    )\n",
    "    \n",
    "    splits_merges = utils.evaluation.get_splits_and_merges(\n",
    "        ground_truth, \n",
    "        prediction, \n",
    "        splits_merges, \n",
    "        image_name\n",
    "    )\n",
    "    \n",
    "    # Display an example image\n",
    "    if image_name == all_images[0]:\n",
    "        show(ground_truth, prediction, image_name=image_name)"
   ]
  },
  {
   "cell_type": "markdown",
   "metadata": {},
   "source": [
    "#### show the comparison between norm_image, raw_annot and label_out"
   ]
  },
  {
   "cell_type": "code",
   "execution_count": 17,
   "metadata": {},
   "outputs": [
    {
     "data": {
      "text/plain": [
       "'viridis'"
      ]
     },
     "execution_count": 17,
     "metadata": {},
     "output_type": "execute_result"
    }
   ],
   "source": [
    "import matplotlib as mpl\n",
    "mpl.rcParams[\"image.cmap\"] # default to viridis"
   ]
  },
  {
   "cell_type": "code",
   "execution_count": 49,
   "metadata": {},
   "outputs": [],
   "source": [
    "mpl.rcParams[\"image.cmap\"] = 'viridis'"
   ]
  },
  {
   "cell_type": "code",
   "execution_count": 56,
   "metadata": {},
   "outputs": [
    {
     "name": "stdout",
     "output_type": "stream",
     "text": [
      "<class 'numpy.ndarray'>\n"
     ]
    },
    {
     "data": {
      "text/plain": [
       "0"
      ]
     },
     "execution_count": 56,
     "metadata": {},
     "output_type": "execute_result"
    }
   ],
   "source": [
    "img_name = \"0000.png\"\n",
    "pred_label_filename = os.path.join(config_vars[\"labels_out_dir\"], img_name)\n",
    "pred_label = skimage.io.imread(pred_label_filename)\n",
    "pred_label = skimage.segmentation.relabel_sequential(pred_label)[0]\n",
    "\n",
    "inc = lambda x: x if x == 0 else x + 100\n",
    "inc = np.vectorize(inc)  # this is implemented by for loop\n",
    "pred_label = inc(pred_label)\n",
    "print(type(pred_label))\n",
    "pred_label.min()"
   ]
  },
  {
   "cell_type": "code",
   "execution_count": 59,
   "metadata": {},
   "outputs": [],
   "source": [
    "def compare(img_name):\n",
    "    ori_img_filename = os.path.join(config_vars[\"normalized_images_dir\"], img_name)\n",
    "    original_image = skimage.io.imread(ori_img_filename)\n",
    "    annot_filename = os.path.join(config_vars[\"raw_annotations_dir\"], img_name)\n",
    "    raw_label = skimage.io.imread(annot_filename)\n",
    "    pred_label_filename = os.path.join(config_vars[\"labels_out_dir\"], img_name)\n",
    "    pred_label = skimage.io.imread(pred_label_filename)\n",
    "\n",
    "    raw_label = skimage.morphology.label(raw_label)\n",
    "    raw_label = skimage.segmentation.relabel_sequential(raw_label)[0] #[30:-30,30:-30])[0]\n",
    "    \n",
    "    struct = skimage.morphology.square(config_vars[\"object_dilation\"])\n",
    "    pred_label = skimage.morphology.dilation(pred_label, struct)\n",
    "    pred_label = skimage.segmentation.relabel_sequential(pred_label)[0] #[30:-30,30:-30])[0]\n",
    "    \n",
    "    inc = lambda x: x if x == 0 else x + 100\n",
    "    inc = np.vectorize(inc)\n",
    "    raw_label = inc(raw_label)\n",
    "    pred_label = inc(pred_label)\n",
    "    \n",
    "    fig, ax = plt.subplots(1, 3, figsize=(15,5))\n",
    "    fig.suptitle(img_name)\n",
    "    ax[0].set_title(\"original image\")\n",
    "    ax[0].imshow(original_image)\n",
    "    ax[1].set_title(\"raw label\")\n",
    "    ax[1].imshow(raw_label)\n",
    "    ax[2].set_title(\"predicted label\")\n",
    "    ax[2].imshow(pred_label)\n",
    "\n",
    "\n",
    "    # plt.figure(figsize=(6,6))\n",
    "    # plt.imshow(original_image)  #, cmap=\"nipy_spectral\")\n",
    "    # plt.show()"
   ]
  },
  {
   "cell_type": "code",
   "execution_count": null,
   "metadata": {
    "scrolled": true
   },
   "outputs": [],
   "source": [
    "for i in np.random.randint(48, size = 5):\n",
    "    img = \"{:04}\".format(i) + \".png\"\n",
    "    compare(img)"
   ]
  },
  {
   "cell_type": "markdown",
   "metadata": {},
   "source": [
    "#### 探究IOU的计算方式"
   ]
  },
  {
   "cell_type": "code",
   "execution_count": 63,
   "metadata": {},
   "outputs": [],
   "source": [
    "image_name = all_images[0]\n",
    "img_filename = os.path.join(config_vars[\"raw_annotations_dir\"], image_name)\n",
    "ground_truth = skimage.io.imread(img_filename)\n",
    "if len(ground_truth.shape) == 3:\n",
    "    ground_truth = ground_truth[:,:,0]\n",
    "    \n",
    "# Transform to label matrix\n",
    "ground_truth = skimage.morphology.label(ground_truth)\n",
    "\n",
    "# Load predictions\n",
    "pred_filename = os.path.join(config_vars[\"labels_out_dir\"], image_name)\n",
    "#     prediction = skimage.io.imread(pred_filename.replace(\".png\",\".tif\"))\n",
    "prediction = skimage.io.imread(pred_filename)\n",
    "\n",
    "# 可能是想要更平滑\n",
    "# Apply object dilation\n",
    "if config_vars[\"object_dilation\"] > 0:\n",
    "    struct = skimage.morphology.square(config_vars[\"object_dilation\"])\n",
    "    prediction = skimage.morphology.dilation(prediction, struct)\n",
    "elif config_vars[\"object_dilation\"] < 0:\n",
    "    struct = skimage.morphology.square(-config_vars[\"object_dilation\"])\n",
    "    prediction = skimage.morphology.erosion(prediction, struct)\n",
    "\n",
    "# Relabel objects (cut margin of 30 pixels to make a fair comparison with DeepCell)\n",
    "ground_truth = skimage.segmentation.relabel_sequential(ground_truth)[0] #[30:-30,30:-30])[0]\n",
    "prediction = skimage.segmentation.relabel_sequential(prediction)[0] #[30:-30,30:-30])[0]"
   ]
  },
  {
   "cell_type": "code",
   "execution_count": 64,
   "metadata": {},
   "outputs": [
    {
     "data": {
      "text/plain": [
       "(array([ 1,  1,  1, ..., 56, 56, 56]), array([ 0,  2,  3, ..., 62, 63, 65]))"
      ]
     },
     "execution_count": 64,
     "metadata": {},
     "output_type": "execute_result"
    }
   ],
   "source": [
    "true_objects = len(np.unique(ground_truth))\n",
    "pred_objects = len(np.unique(prediction))\n",
    "\n",
    "# Compute intersection\n",
    "h = np.histogram2d(ground_truth.flatten(), prediction.flatten(), bins=(true_objects, pred_objects))\n",
    "intersection = h[0]\n",
    "np.where(intersection == 0)"
   ]
  },
  {
   "cell_type": "code",
   "execution_count": 65,
   "metadata": {},
   "outputs": [
    {
     "data": {
      "text/plain": [
       "0.0"
      ]
     },
     "execution_count": 65,
     "metadata": {},
     "output_type": "execute_result"
    }
   ],
   "source": [
    "intersection[1, 0]"
   ]
  },
  {
   "cell_type": "code",
   "execution_count": 66,
   "metadata": {},
   "outputs": [],
   "source": [
    "# Area of objects\n",
    "area_true = np.histogram(ground_truth, bins=true_objects)[0]\n",
    "area_pred = np.histogram(prediction, bins=pred_objects)[0]\n",
    "area_true = np.expand_dims(area_true, -1)\n",
    "area_pred = np.expand_dims(area_pred, 0)"
   ]
  },
  {
   "cell_type": "code",
   "execution_count": 67,
   "metadata": {},
   "outputs": [
    {
     "data": {
      "text/plain": [
       "(57, 66)"
      ]
     },
     "execution_count": 67,
     "metadata": {},
     "output_type": "execute_result"
    }
   ],
   "source": [
    "union = area_true + area_pred - intersection\n",
    "union.shape"
   ]
  },
  {
   "cell_type": "code",
   "execution_count": 68,
   "metadata": {},
   "outputs": [
    {
     "data": {
      "text/plain": [
       "(56, 65)"
      ]
     },
     "execution_count": 68,
     "metadata": {},
     "output_type": "execute_result"
    }
   ],
   "source": [
    "# Exclude background from the analysis\n",
    "intersection = intersection[1:, 1:]\n",
    "union = union[1:, 1:]\n",
    "\n",
    "# Compute Intersection over Union\n",
    "union[union == 0] = 1e-9\n",
    "IOU = intersection / union\n",
    "\n",
    "IOU.shape"
   ]
  },
  {
   "cell_type": "markdown",
   "metadata": {},
   "source": [
    "### Report of results"
   ]
  },
  {
   "cell_type": "code",
   "execution_count": 67,
   "metadata": {},
   "outputs": [
    {
     "data": {
      "text/html": [
       "<div>\n",
       "<style scoped>\n",
       "    .dataframe tbody tr th:only-of-type {\n",
       "        vertical-align: middle;\n",
       "    }\n",
       "\n",
       "    .dataframe tbody tr th {\n",
       "        vertical-align: top;\n",
       "    }\n",
       "\n",
       "    .dataframe thead th {\n",
       "        text-align: right;\n",
       "    }\n",
       "</style>\n",
       "<table border=\"1\" class=\"dataframe\">\n",
       "  <thead>\n",
       "    <tr style=\"text-align: right;\">\n",
       "      <th></th>\n",
       "      <th>Threshold</th>\n",
       "      <th>F1</th>\n",
       "      <th>Jaccard</th>\n",
       "    </tr>\n",
       "  </thead>\n",
       "  <tbody>\n",
       "    <tr>\n",
       "      <th>0</th>\n",
       "      <td>0.50</td>\n",
       "      <td>0.880331</td>\n",
       "      <td>0.748379</td>\n",
       "    </tr>\n",
       "    <tr>\n",
       "      <th>1</th>\n",
       "      <td>0.55</td>\n",
       "      <td>0.870486</td>\n",
       "      <td>0.748379</td>\n",
       "    </tr>\n",
       "    <tr>\n",
       "      <th>2</th>\n",
       "      <td>0.60</td>\n",
       "      <td>0.866145</td>\n",
       "      <td>0.748379</td>\n",
       "    </tr>\n",
       "    <tr>\n",
       "      <th>3</th>\n",
       "      <td>0.65</td>\n",
       "      <td>0.864357</td>\n",
       "      <td>0.748379</td>\n",
       "    </tr>\n",
       "    <tr>\n",
       "      <th>4</th>\n",
       "      <td>0.70</td>\n",
       "      <td>0.861972</td>\n",
       "      <td>0.748379</td>\n",
       "    </tr>\n",
       "    <tr>\n",
       "      <th>5</th>\n",
       "      <td>0.75</td>\n",
       "      <td>0.858966</td>\n",
       "      <td>0.748379</td>\n",
       "    </tr>\n",
       "    <tr>\n",
       "      <th>6</th>\n",
       "      <td>0.80</td>\n",
       "      <td>0.848584</td>\n",
       "      <td>0.748379</td>\n",
       "    </tr>\n",
       "    <tr>\n",
       "      <th>7</th>\n",
       "      <td>0.85</td>\n",
       "      <td>0.796755</td>\n",
       "      <td>0.748379</td>\n",
       "    </tr>\n",
       "    <tr>\n",
       "      <th>8</th>\n",
       "      <td>0.90</td>\n",
       "      <td>0.748593</td>\n",
       "      <td>0.748379</td>\n",
       "    </tr>\n",
       "    <tr>\n",
       "      <th>9</th>\n",
       "      <td>0.95</td>\n",
       "      <td>0.380172</td>\n",
       "      <td>0.748379</td>\n",
       "    </tr>\n",
       "  </tbody>\n",
       "</table>\n",
       "</div>"
      ],
      "text/plain": [
       "   Threshold        F1   Jaccard\n",
       "0       0.50  0.880331  0.748379\n",
       "1       0.55  0.870486  0.748379\n",
       "2       0.60  0.866145  0.748379\n",
       "3       0.65  0.864357  0.748379\n",
       "4       0.70  0.861972  0.748379\n",
       "5       0.75  0.858966  0.748379\n",
       "6       0.80  0.848584  0.748379\n",
       "7       0.85  0.796755  0.748379\n",
       "8       0.90  0.748593  0.748379\n",
       "9       0.95  0.380172  0.748379"
      ]
     },
     "execution_count": 67,
     "metadata": {},
     "output_type": "execute_result"
    }
   ],
   "source": [
    "# Display accuracy results\n",
    "# 在以相同Threshold为一组中取另外columns的平均值\n",
    "\n",
    "average_performance = results.groupby(\"Threshold\").mean().reset_index()\n",
    "average_performance"
   ]
  },
  {
   "cell_type": "code",
   "execution_count": 69,
   "metadata": {},
   "outputs": [
    {
     "data": {
      "text/plain": [
       "'0012.png'"
      ]
     },
     "execution_count": 69,
     "metadata": {},
     "output_type": "execute_result"
    }
   ],
   "source": [
    "R = results.groupby(\"Image\").mean().reset_index()\n",
    "R.sort_values(by=\"F1\", ascending=False).loc[12, \"Image\"]  \n",
    "# R"
   ]
  },
  {
   "cell_type": "code",
   "execution_count": 70,
   "metadata": {},
   "outputs": [
    {
     "data": {
      "image/png": "[encoded data removed]",
      "text/plain": [
       "<Figure size 432x432 with 3 Axes>"
      ]
     },
     "metadata": {
      "needs_background": "light"
     },
     "output_type": "display_data"
    }
   ],
   "source": [
    "g = sb.jointplot(data=R[R[\"F1\"] > 0.4], x=\"Jaccard\", y=\"F1\")"
   ]
  },
  {
   "cell_type": "code",
   "execution_count": 71,
   "metadata": {},
   "outputs": [
    {
     "data": {
      "text/plain": [
       "<matplotlib.axes._subplots.AxesSubplot at 0x7fa7aae4fa58>"
      ]
     },
     "execution_count": 71,
     "metadata": {},
     "output_type": "execute_result"
    },
    {
     "data": {
      "image/png": "[encoded data removed]",
      "text/plain": [
       "<Figure size 432x288 with 1 Axes>"
      ]
     },
     "metadata": {
      "needs_background": "light"
     },
     "output_type": "display_data"
    }
   ],
   "source": [
    "# Plot accuracy results\n",
    "\n",
    "sb.regplot(data=average_performance, x=\"Threshold\", y=\"F1\", order=3, ci=None)"
   ]
  },
  {
   "cell_type": "code",
   "execution_count": 72,
   "metadata": {},
   "outputs": [
    {
     "name": "stdout",
     "output_type": "stream",
     "text": [
      "Average F1 score: 0.7976362157346384\n",
      "Jaccard index: 0.7483787586141927\n"
     ]
    }
   ],
   "source": [
    "# Compute and print Average F1\n",
    "\n",
    "average_F1_score = average_performance[\"F1\"].mean()\n",
    "jaccard_index = average_performance[\"Jaccard\"].mean()\n",
    "print(\"Average F1 score:\", average_F1_score)\n",
    "print(\"Jaccard index:\", jaccard_index)"
   ]
  },
  {
   "cell_type": "code",
   "execution_count": 74,
   "metadata": {},
   "outputs": [
    {
     "data": {
      "text/plain": [
       "Area\n",
       "Tiny nuclei       NaN\n",
       "Small nuclei     26.0\n",
       "Normal nuclei    14.0\n",
       "Large nuclei     57.0\n",
       "Name: False_Negative, dtype: float64"
      ]
     },
     "execution_count": 74,
     "metadata": {},
     "output_type": "execute_result"
    }
   ],
   "source": [
    "# Summarize False Negatives by area\n",
    "\n",
    "false_negatives = false_negatives[false_negatives[\"False_Negative\"] == 1]\n",
    "\n",
    "false_negatives.groupby(\n",
    "    pd.cut(\n",
    "        false_negatives[\"Area\"], \n",
    "        [0,250,625,900,10000], # Area intervals\n",
    "        labels=[\"Tiny nuclei\",\"Small nuclei\",\"Normal nuclei\",\"Large nuclei\"],\n",
    "    )\n",
    ")[\"False_Negative\"].sum()"
   ]
  },
  {
   "cell_type": "code",
   "execution_count": 75,
   "metadata": {},
   "outputs": [
    {
     "name": "stdout",
     "output_type": "stream",
     "text": [
      "Splits: 66\n",
      "Merges: 5\n"
     ]
    }
   ],
   "source": [
    "# Summarize splits and merges\n",
    "\n",
    "print(\"Splits:\",np.sum(splits_merges[\"Splits\"]))\n",
    "print(\"Merges:\",np.sum(splits_merges[\"Merges\"]))"
   ]
  },
  {
   "cell_type": "code",
   "execution_count": 76,
   "metadata": {},
   "outputs": [
    {
     "name": "stdout",
     "output_type": "stream",
     "text": [
      "Extra objects (false postives): 910\n"
     ]
    }
   ],
   "source": [
    "# Report false positives\n",
    "\n",
    "print(\"Extra objects (false postives):\",results[results[\"Threshold\"].round(3) == 0.7].sum()[\"FP\"])"
   ]
  },
  {
   "cell_type": "code",
   "execution_count": null,
   "metadata": {},
   "outputs": [],
   "source": []
  }
 ],
 "metadata": {
  "kernelspec": {
   "display_name": "Python 3",
   "language": "python",
   "name": "python3"
  },
  "language_info": {
   "codemirror_mode": {
    "name": "ipython",
    "version": 3
   },
   "file_extension": ".py",
   "mimetype": "text/x-python",
   "name": "python",
   "nbconvert_exporter": "python",
   "pygments_lexer": "ipython3",
   "version": "3.6.8"
  }
 },
 "nbformat": 4,
 "nbformat_minor": 4
}
