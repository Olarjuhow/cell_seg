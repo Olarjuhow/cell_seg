{
 "cells": [
  {
   "cell_type": "markdown",
   "metadata": {},
   "source": [
    "# Step 02\n",
    "# Training a U-Net model"
   ]
  },
  {
   "cell_type": "code",
   "execution_count": 1,
   "metadata": {},
   "outputs": [],
   "source": [
    "%matplotlib inline"
   ]
  },
  {
   "cell_type": "code",
   "execution_count": 2,
   "metadata": {},
   "outputs": [
    {
     "name": "stderr",
     "output_type": "stream",
     "text": [
      "Using TensorFlow backend.\n"
     ]
    }
   ],
   "source": [
    "import sys\n",
    "import os\n",
    "\n",
    "import numpy as np\n",
    "import skimage.io\n",
    "\n",
    "import tensorflow as tf\n",
    "\n",
    "import keras.backend\n",
    "import keras.callbacks\n",
    "import keras.layers\n",
    "import keras.models\n",
    "import keras.optimizers\n",
    "\n",
    "import utils.model_builder\n",
    "import utils.data_provider\n",
    "import utils.metrics\n",
    "import utils.objectives\n",
    "import utils.dirtools\n",
    "\n",
    "# Uncomment the following line if you don't have a GPU\n",
    "#os.environ['CUDA_VISIBLE_DEVICES'] = ''"
   ]
  },
  {
   "cell_type": "markdown",
   "metadata": {},
   "source": [
    "# Configuration"
   ]
  },
  {
   "cell_type": "code",
   "execution_count": 3,
   "metadata": {},
   "outputs": [],
   "source": [
    "from config import config_vars"
   ]
  },
  {
   "cell_type": "code",
   "execution_count": 4,
   "metadata": {},
   "outputs": [
    {
     "data": {
      "text/plain": [
       "{'root_directory': 'data1/image-segmentation/BBBC022/unet/',\n",
       " 'max_training_images': 0,\n",
       " 'create_split_files': False,\n",
       " 'training_fraction': 0.5,\n",
       " 'validation_fraction': 0.25,\n",
       " 'transform_images_to_PNG': True,\n",
       " 'pixel_depth': 8,\n",
       " 'min_nucleus_size': 25,\n",
       " 'boundary_size': 2,\n",
       " 'augment_images': False,\n",
       " 'elastic_points': 16,\n",
       " 'elastic_distortion': 5,\n",
       " 'elastic_augmentations': 10,\n",
       " 'learning_rate': 0.0001,\n",
       " 'epochs': 15,\n",
       " 'steps_per_epoch': 500,\n",
       " 'batch_size': 10,\n",
       " 'val_batch_size': 10,\n",
       " 'rescale_labels': True,\n",
       " 'crop_size': 256,\n",
       " 'cell_min_size': 16,\n",
       " 'boundary_boost_factor': 1,\n",
       " 'object_dilation': 3,\n",
       " 'raw_images_dir': 'data1/image-segmentation/BBBC022/unet/raw_images/',\n",
       " 'raw_annotations_dir': 'data1/image-segmentation/BBBC022/unet/raw_annotations/',\n",
       " 'path_files_training': 'data1/image-segmentation/BBBC022/unet/training.txt',\n",
       " 'path_files_validation': 'data1/image-segmentation/BBBC022/unet/validation.txt',\n",
       " 'path_files_test': 'data1/image-segmentation/BBBC022/unet/test.txt',\n",
       " 'normalized_images_dir': 'data1/image-segmentation/BBBC022/unet/norm_images/',\n",
       " 'boundary_labels_dir': 'data1/image-segmentation/BBBC022/unet/boundary_labels/',\n",
       " 'experiment_dir': 'data1/image-segmentation/BBBC022/unet/experiments/01/out/',\n",
       " 'probmap_out_dir': 'data1/image-segmentation/BBBC022/unet/experiments/01/out/prob/',\n",
       " 'labels_out_dir': 'data1/image-segmentation/BBBC022/unet/experiments/01/out/segm/',\n",
       " 'model_file': 'data1/image-segmentation/BBBC022/unet/experiments/01/model.hdf5',\n",
       " 'csv_log_file': 'data1/image-segmentation/BBBC022/unet/experiments/01/log.csv'}"
      ]
     },
     "execution_count": 4,
     "metadata": {},
     "output_type": "execute_result"
    }
   ],
   "source": [
    "experiment_name = '01'\n",
    "\n",
    "config_vars = utils.dirtools.setup_experiment(config_vars, experiment_name)\n",
    "\n",
    "data_partitions = utils.dirtools.read_data_partitions(config_vars)\n",
    "\n",
    "config_vars"
   ]
  },
  {
   "cell_type": "markdown",
   "metadata": {},
   "source": [
    "# Initiate data generators"
   ]
  },
  {
   "cell_type": "code",
   "execution_count": 5,
   "metadata": {},
   "outputs": [],
   "source": [
    "# build session running on GPU 1\n",
    "configuration = tf.ConfigProto()\n",
    "configuration.gpu_options.allow_growth = True\n",
    "configuration.gpu_options.visible_device_list = \"1\"\n",
    "session = tf.Session(config = configuration)\n",
    "\n",
    "# apply session\n",
    "keras.backend.set_session(session)\n",
    "\n",
    "train_gen = utils.data_provider.random_sample_generator(\n",
    "    config_vars[\"normalized_images_dir\"],\n",
    "    config_vars[\"boundary_labels_dir\"],\n",
    "    data_partitions[\"training\"],\n",
    "    config_vars[\"batch_size\"],\n",
    "    config_vars[\"pixel_depth\"],\n",
    "    config_vars[\"crop_size\"],\n",
    "    config_vars[\"crop_size\"],\n",
    "    config_vars[\"rescale_labels\"]\n",
    ")\n",
    "\n",
    "val_gen = utils.data_provider.single_data_from_images(\n",
    "     config_vars[\"normalized_images_dir\"],\n",
    "     config_vars[\"boundary_labels_dir\"],\n",
    "     data_partitions[\"validation\"],\n",
    "     config_vars[\"val_batch_size\"],\n",
    "     config_vars[\"pixel_depth\"],\n",
    "     config_vars[\"crop_size\"],\n",
    "     config_vars[\"crop_size\"],\n",
    "     config_vars[\"rescale_labels\"]\n",
    ")"
   ]
  },
  {
   "cell_type": "markdown",
   "metadata": {},
   "source": [
    "# Build model"
   ]
  },
  {
   "cell_type": "code",
   "execution_count": 6,
   "metadata": {
    "scrolled": false
   },
   "outputs": [
    {
     "name": "stderr",
     "output_type": "stream",
     "text": [
      "/home/lanbowen23/Instance/unet4nuclei/unet4nuclei/utils/model_builder.py:16: UserWarning: Update your `Conv2D` call to the Keras 2 API: `Conv2D(64, (3, 3), activation=\"relu\", padding=\"same\")`\n",
      "  a = keras.layers.Convolution2D(64, 3, 3, **option_dict_conv)(x)\n",
      "/home/lanbowen23/Instance/unet4nuclei/unet4nuclei/utils/model_builder.py:17: UserWarning: Update your `BatchNormalization` call to the Keras 2 API: `BatchNormalization(momentum=0.9)`\n",
      "  a = keras.layers.BatchNormalization(**option_dict_bn)(a)\n",
      "/home/lanbowen23/Instance/unet4nuclei/unet4nuclei/utils/model_builder.py:19: UserWarning: Update your `Conv2D` call to the Keras 2 API: `Conv2D(64, (3, 3), activation=\"relu\", padding=\"same\")`\n",
      "  a = keras.layers.Convolution2D(64, 3, 3, **option_dict_conv)(a)\n",
      "/home/lanbowen23/Instance/unet4nuclei/unet4nuclei/utils/model_builder.py:20: UserWarning: Update your `BatchNormalization` call to the Keras 2 API: `BatchNormalization(momentum=0.9)`\n",
      "  a = keras.layers.BatchNormalization(**option_dict_bn)(a)\n",
      "/home/lanbowen23/Instance/unet4nuclei/unet4nuclei/utils/model_builder.py:25: UserWarning: Update your `Conv2D` call to the Keras 2 API: `Conv2D(128, (3, 3), activation=\"relu\", padding=\"same\")`\n",
      "  b = keras.layers.Convolution2D(128, 3, 3, **option_dict_conv)(y)\n",
      "/home/lanbowen23/Instance/unet4nuclei/unet4nuclei/utils/model_builder.py:26: UserWarning: Update your `BatchNormalization` call to the Keras 2 API: `BatchNormalization(momentum=0.9)`\n",
      "  b = keras.layers.BatchNormalization(**option_dict_bn)(b)\n",
      "/home/lanbowen23/Instance/unet4nuclei/unet4nuclei/utils/model_builder.py:28: UserWarning: Update your `Conv2D` call to the Keras 2 API: `Conv2D(128, (3, 3), activation=\"relu\", padding=\"same\")`\n",
      "  b = keras.layers.Convolution2D(128, 3, 3, **option_dict_conv)(b)\n",
      "/home/lanbowen23/Instance/unet4nuclei/unet4nuclei/utils/model_builder.py:29: UserWarning: Update your `BatchNormalization` call to the Keras 2 API: `BatchNormalization(momentum=0.9)`\n",
      "  b = keras.layers.BatchNormalization(**option_dict_bn)(b)\n",
      "/home/lanbowen23/Instance/unet4nuclei/unet4nuclei/utils/model_builder.py:34: UserWarning: Update your `Conv2D` call to the Keras 2 API: `Conv2D(256, (3, 3), activation=\"relu\", padding=\"same\")`\n",
      "  c = keras.layers.Convolution2D(256, 3, 3, **option_dict_conv)(y)\n",
      "/home/lanbowen23/Instance/unet4nuclei/unet4nuclei/utils/model_builder.py:35: UserWarning: Update your `BatchNormalization` call to the Keras 2 API: `BatchNormalization(momentum=0.9)`\n",
      "  c = keras.layers.BatchNormalization(**option_dict_bn)(c)\n",
      "/home/lanbowen23/Instance/unet4nuclei/unet4nuclei/utils/model_builder.py:37: UserWarning: Update your `Conv2D` call to the Keras 2 API: `Conv2D(256, (3, 3), activation=\"relu\", padding=\"same\")`\n",
      "  c = keras.layers.Convolution2D(256, 3, 3, **option_dict_conv)(c)\n",
      "/home/lanbowen23/Instance/unet4nuclei/unet4nuclei/utils/model_builder.py:38: UserWarning: Update your `BatchNormalization` call to the Keras 2 API: `BatchNormalization(momentum=0.9)`\n",
      "  c = keras.layers.BatchNormalization(**option_dict_bn)(c)\n",
      "/home/lanbowen23/Instance/unet4nuclei/unet4nuclei/utils/model_builder.py:43: UserWarning: Update your `Conv2D` call to the Keras 2 API: `Conv2D(512, (3, 3), activation=\"relu\", padding=\"same\")`\n",
      "  d = keras.layers.Convolution2D(512, 3, 3, **option_dict_conv)(y)\n",
      "/home/lanbowen23/Instance/unet4nuclei/unet4nuclei/utils/model_builder.py:44: UserWarning: Update your `BatchNormalization` call to the Keras 2 API: `BatchNormalization(momentum=0.9)`\n",
      "  d = keras.layers.BatchNormalization(**option_dict_bn)(d)\n",
      "/home/lanbowen23/Instance/unet4nuclei/unet4nuclei/utils/model_builder.py:46: UserWarning: Update your `Conv2D` call to the Keras 2 API: `Conv2D(512, (3, 3), activation=\"relu\", padding=\"same\")`\n",
      "  d = keras.layers.Convolution2D(512, 3, 3, **option_dict_conv)(d)\n",
      "/home/lanbowen23/Instance/unet4nuclei/unet4nuclei/utils/model_builder.py:47: UserWarning: Update your `BatchNormalization` call to the Keras 2 API: `BatchNormalization(momentum=0.9)`\n",
      "  d = keras.layers.BatchNormalization(**option_dict_bn)(d)\n",
      "/home/lanbowen23/Instance/unet4nuclei/unet4nuclei/utils/model_builder.py:56: UserWarning: Update your `Conv2D` call to the Keras 2 API: `Conv2D(256, (3, 3), activation=\"relu\", padding=\"same\")`\n",
      "  e = keras.layers.Convolution2D(256, 3, 3, **option_dict_conv)(y)\n",
      "/home/lanbowen23/Instance/unet4nuclei/unet4nuclei/utils/model_builder.py:57: UserWarning: Update your `BatchNormalization` call to the Keras 2 API: `BatchNormalization(momentum=0.9)`\n",
      "  e = keras.layers.BatchNormalization(**option_dict_bn)(e)\n",
      "/home/lanbowen23/Instance/unet4nuclei/unet4nuclei/utils/model_builder.py:59: UserWarning: Update your `Conv2D` call to the Keras 2 API: `Conv2D(256, (3, 3), activation=\"relu\", padding=\"same\")`\n",
      "  e = keras.layers.Convolution2D(256, 3, 3, **option_dict_conv)(e)\n",
      "/home/lanbowen23/Instance/unet4nuclei/unet4nuclei/utils/model_builder.py:60: UserWarning: Update your `BatchNormalization` call to the Keras 2 API: `BatchNormalization(momentum=0.9)`\n",
      "  e = keras.layers.BatchNormalization(**option_dict_bn)(e)\n",
      "/home/lanbowen23/Instance/unet4nuclei/unet4nuclei/utils/model_builder.py:67: UserWarning: Update your `Conv2D` call to the Keras 2 API: `Conv2D(128, (3, 3), activation=\"relu\", padding=\"same\")`\n",
      "  f = keras.layers.Convolution2D(128, 3, 3, **option_dict_conv)(y)\n",
      "/home/lanbowen23/Instance/unet4nuclei/unet4nuclei/utils/model_builder.py:68: UserWarning: Update your `BatchNormalization` call to the Keras 2 API: `BatchNormalization(momentum=0.9)`\n",
      "  f = keras.layers.BatchNormalization(**option_dict_bn)(f)\n",
      "/home/lanbowen23/Instance/unet4nuclei/unet4nuclei/utils/model_builder.py:70: UserWarning: Update your `Conv2D` call to the Keras 2 API: `Conv2D(128, (3, 3), activation=\"relu\", padding=\"same\")`\n",
      "  f = keras.layers.Convolution2D(128, 3, 3, **option_dict_conv)(f)\n",
      "/home/lanbowen23/Instance/unet4nuclei/unet4nuclei/utils/model_builder.py:71: UserWarning: Update your `BatchNormalization` call to the Keras 2 API: `BatchNormalization(momentum=0.9)`\n",
      "  f = keras.layers.BatchNormalization(**option_dict_bn)(f)\n",
      "/home/lanbowen23/Instance/unet4nuclei/unet4nuclei/utils/model_builder.py:78: UserWarning: Update your `Conv2D` call to the Keras 2 API: `Conv2D(64, (3, 3), activation=\"relu\", padding=\"same\")`\n",
      "  y = keras.layers.Convolution2D(64, 3, 3, **option_dict_conv)(y)\n",
      "/home/lanbowen23/Instance/unet4nuclei/unet4nuclei/utils/model_builder.py:79: UserWarning: Update your `BatchNormalization` call to the Keras 2 API: `BatchNormalization(momentum=0.9)`\n",
      "  y = keras.layers.BatchNormalization(**option_dict_bn)(y)\n",
      "/home/lanbowen23/Instance/unet4nuclei/unet4nuclei/utils/model_builder.py:81: UserWarning: Update your `Conv2D` call to the Keras 2 API: `Conv2D(64, (3, 3), activation=\"relu\", padding=\"same\")`\n",
      "  y = keras.layers.Convolution2D(64, 3, 3, **option_dict_conv)(y)\n",
      "/home/lanbowen23/Instance/unet4nuclei/unet4nuclei/utils/model_builder.py:82: UserWarning: Update your `BatchNormalization` call to the Keras 2 API: `BatchNormalization(momentum=0.9)`\n",
      "  y = keras.layers.BatchNormalization(**option_dict_bn)(y)\n",
      "/home/lanbowen23/Instance/unet4nuclei/unet4nuclei/utils/model_builder.py:91: UserWarning: Update your `Conv2D` call to the Keras 2 API: `Conv2D(3, (1, 1), activation=\"relu\", padding=\"same\")`\n",
      "  y = keras.layers.Convolution2D(3, 1, 1, **option_dict_conv)(y)\n"
     ]
    },
    {
     "name": "stdout",
     "output_type": "stream",
     "text": [
      "__________________________________________________________________________________________________\n",
      "Layer (type)                    Output Shape         Param #     Connected to                     \n",
      "==================================================================================================\n",
      "input_1 (InputLayer)            (None, 256, 256, 1)  0                                            \n",
      "__________________________________________________________________________________________________\n",
      "conv2d_1 (Conv2D)               (None, 256, 256, 64) 640         input_1[0][0]                    \n",
      "__________________________________________________________________________________________________\n",
      "batch_normalization_1 (BatchNor (None, 256, 256, 64) 256         conv2d_1[0][0]                   \n",
      "__________________________________________________________________________________________________\n",
      "conv2d_2 (Conv2D)               (None, 256, 256, 64) 36928       batch_normalization_1[0][0]      \n",
      "__________________________________________________________________________________________________\n",
      "batch_normalization_2 (BatchNor (None, 256, 256, 64) 256         conv2d_2[0][0]                   \n",
      "__________________________________________________________________________________________________\n",
      "max_pooling2d_1 (MaxPooling2D)  (None, 128, 128, 64) 0           batch_normalization_2[0][0]      \n",
      "__________________________________________________________________________________________________\n",
      "conv2d_3 (Conv2D)               (None, 128, 128, 128 73856       max_pooling2d_1[0][0]            \n",
      "__________________________________________________________________________________________________\n",
      "batch_normalization_3 (BatchNor (None, 128, 128, 128 512         conv2d_3[0][0]                   \n",
      "__________________________________________________________________________________________________\n",
      "conv2d_4 (Conv2D)               (None, 128, 128, 128 147584      batch_normalization_3[0][0]      \n",
      "__________________________________________________________________________________________________\n",
      "batch_normalization_4 (BatchNor (None, 128, 128, 128 512         conv2d_4[0][0]                   \n",
      "__________________________________________________________________________________________________\n",
      "max_pooling2d_2 (MaxPooling2D)  (None, 64, 64, 128)  0           batch_normalization_4[0][0]      \n",
      "__________________________________________________________________________________________________\n",
      "conv2d_5 (Conv2D)               (None, 64, 64, 256)  295168      max_pooling2d_2[0][0]            \n",
      "__________________________________________________________________________________________________\n",
      "batch_normalization_5 (BatchNor (None, 64, 64, 256)  1024        conv2d_5[0][0]                   \n",
      "__________________________________________________________________________________________________\n",
      "conv2d_6 (Conv2D)               (None, 64, 64, 256)  590080      batch_normalization_5[0][0]      \n",
      "__________________________________________________________________________________________________\n",
      "batch_normalization_6 (BatchNor (None, 64, 64, 256)  1024        conv2d_6[0][0]                   \n",
      "__________________________________________________________________________________________________\n",
      "max_pooling2d_3 (MaxPooling2D)  (None, 32, 32, 256)  0           batch_normalization_6[0][0]      \n",
      "__________________________________________________________________________________________________\n",
      "conv2d_7 (Conv2D)               (None, 32, 32, 512)  1180160     max_pooling2d_3[0][0]            \n",
      "__________________________________________________________________________________________________\n",
      "batch_normalization_7 (BatchNor (None, 32, 32, 512)  2048        conv2d_7[0][0]                   \n",
      "__________________________________________________________________________________________________\n",
      "conv2d_8 (Conv2D)               (None, 32, 32, 512)  2359808     batch_normalization_7[0][0]      \n",
      "__________________________________________________________________________________________________\n",
      "batch_normalization_8 (BatchNor (None, 32, 32, 512)  2048        conv2d_8[0][0]                   \n",
      "__________________________________________________________________________________________________\n",
      "up_sampling2d_1 (UpSampling2D)  (None, 64, 64, 512)  0           batch_normalization_8[0][0]      \n",
      "__________________________________________________________________________________________________\n",
      "concatenate_1 (Concatenate)     (None, 64, 64, 768)  0           up_sampling2d_1[0][0]            \n",
      "                                                                 batch_normalization_6[0][0]      \n",
      "__________________________________________________________________________________________________\n",
      "conv2d_9 (Conv2D)               (None, 64, 64, 256)  1769728     concatenate_1[0][0]              \n",
      "__________________________________________________________________________________________________\n",
      "batch_normalization_9 (BatchNor (None, 64, 64, 256)  1024        conv2d_9[0][0]                   \n",
      "__________________________________________________________________________________________________\n",
      "conv2d_10 (Conv2D)              (None, 64, 64, 256)  590080      batch_normalization_9[0][0]      \n",
      "__________________________________________________________________________________________________\n",
      "batch_normalization_10 (BatchNo (None, 64, 64, 256)  1024        conv2d_10[0][0]                  \n",
      "__________________________________________________________________________________________________\n",
      "up_sampling2d_2 (UpSampling2D)  (None, 128, 128, 256 0           batch_normalization_10[0][0]     \n",
      "__________________________________________________________________________________________________\n",
      "concatenate_2 (Concatenate)     (None, 128, 128, 384 0           up_sampling2d_2[0][0]            \n",
      "                                                                 batch_normalization_4[0][0]      \n",
      "__________________________________________________________________________________________________\n",
      "conv2d_11 (Conv2D)              (None, 128, 128, 128 442496      concatenate_2[0][0]              \n",
      "__________________________________________________________________________________________________\n",
      "batch_normalization_11 (BatchNo (None, 128, 128, 128 512         conv2d_11[0][0]                  \n",
      "__________________________________________________________________________________________________\n",
      "conv2d_12 (Conv2D)              (None, 128, 128, 128 147584      batch_normalization_11[0][0]     \n",
      "__________________________________________________________________________________________________\n",
      "batch_normalization_12 (BatchNo (None, 128, 128, 128 512         conv2d_12[0][0]                  \n",
      "__________________________________________________________________________________________________\n",
      "up_sampling2d_3 (UpSampling2D)  (None, 256, 256, 128 0           batch_normalization_12[0][0]     \n",
      "__________________________________________________________________________________________________\n",
      "concatenate_3 (Concatenate)     (None, 256, 256, 192 0           up_sampling2d_3[0][0]            \n",
      "                                                                 batch_normalization_2[0][0]      \n",
      "__________________________________________________________________________________________________\n",
      "conv2d_13 (Conv2D)              (None, 256, 256, 64) 110656      concatenate_3[0][0]              \n",
      "__________________________________________________________________________________________________\n",
      "batch_normalization_13 (BatchNo (None, 256, 256, 64) 256         conv2d_13[0][0]                  \n",
      "__________________________________________________________________________________________________\n",
      "conv2d_14 (Conv2D)              (None, 256, 256, 64) 36928       batch_normalization_13[0][0]     \n",
      "__________________________________________________________________________________________________\n",
      "batch_normalization_14 (BatchNo (None, 256, 256, 64) 256         conv2d_14[0][0]                  \n",
      "__________________________________________________________________________________________________\n",
      "conv2d_15 (Conv2D)              (None, 256, 256, 3)  195         batch_normalization_14[0][0]     \n",
      "==================================================================================================\n",
      "Total params: 7,793,155\n",
      "Trainable params: 7,787,523\n",
      "Non-trainable params: 5,632\n",
      "__________________________________________________________________________________________________\n"
     ]
    }
   ],
   "source": [
    "# build model\n",
    "model = utils.model_builder.get_model_3_class(config_vars[\"crop_size\"], config_vars[\"crop_size\"], activation=None)\n",
    "model.summary()\n",
    "\n",
    "#loss = \"categorical_crossentropy\"\n",
    "loss = utils.objectives.weighted_crossentropy\n",
    "\n",
    "metrics = [keras.metrics.categorical_accuracy, \n",
    "           utils.metrics.channel_recall(channel=0, name=\"background_recall\"), \n",
    "           utils.metrics.channel_precision(channel=0, name=\"background_precision\"),\n",
    "           utils.metrics.channel_recall(channel=1, name=\"interior_recall\"), \n",
    "           utils.metrics.channel_precision(channel=1, name=\"interior_precision\"),\n",
    "           utils.metrics.channel_recall(channel=2, name=\"boundary_recall\"), \n",
    "           utils.metrics.channel_precision(channel=2, name=\"boundary_precision\"),\n",
    "          ]\n",
    "\n",
    "optimizer = keras.optimizers.RMSprop(lr=config_vars[\"learning_rate\"])\n",
    "\n",
    "model.compile(loss=loss, metrics=metrics, optimizer=optimizer)\n",
    "\n",
    "# Performance logging\n",
    "callback_csv = keras.callbacks.CSVLogger(filename=config_vars[\"csv_log_file\"])\n",
    "\n",
    "callbacks=[callback_csv]\n"
   ]
  },
  {
   "cell_type": "markdown",
   "metadata": {},
   "source": [
    "# Training "
   ]
  },
  {
   "cell_type": "code",
   "execution_count": 7,
   "metadata": {
    "scrolled": true
   },
   "outputs": [
    {
     "name": "stdout",
     "output_type": "stream",
     "text": [
      "Epoch 1/15\n",
      "Training with 100 images.\n",
      "500/500 [==============================] - 158s 317ms/step - loss: 0.2580 - categorical_accuracy: 0.9449 - background_recall: 0.9609 - background_precision: 0.9973 - interior_recall: 0.8736 - interior_precision: 0.9743 - boundary_recall: 0.9478 - boundary_precision: 0.4984 - val_loss: 0.1736 - val_categorical_accuracy: 0.9587 - val_background_recall: 0.9739 - val_background_precision: 0.9987 - val_interior_recall: 0.8894 - val_interior_precision: 0.9936 - val_boundary_recall: 0.9622 - val_boundary_precision: 0.5430\n",
      "Epoch 2/15\n",
      "500/500 [==============================] - 153s 306ms/step - loss: 0.1823 - categorical_accuracy: 0.9562 - background_recall: 0.9726 - background_precision: 0.9981 - interior_recall: 0.8852 - interior_precision: 0.9923 - boundary_recall: 0.9542 - boundary_precision: 0.5383 - val_loss: 0.1742 - val_categorical_accuracy: 0.9522 - val_background_recall: 0.9685 - val_background_precision: 0.9986 - val_interior_recall: 0.8712 - val_interior_precision: 0.9891 - val_boundary_recall: 0.9679 - val_boundary_precision: 0.5004\n",
      "Epoch 3/15\n",
      "500/500 [==============================] - 153s 305ms/step - loss: 0.1673 - categorical_accuracy: 0.9585 - background_recall: 0.9741 - background_precision: 0.9983 - interior_recall: 0.8893 - interior_precision: 0.9932 - boundary_recall: 0.9577 - boundary_precision: 0.5482 - val_loss: 0.1462 - val_categorical_accuracy: 0.9643 - val_background_recall: 0.9776 - val_background_precision: 0.9986 - val_interior_recall: 0.9027 - val_interior_precision: 0.9937 - val_boundary_recall: 0.9591 - val_boundary_precision: 0.5724\n",
      "Epoch 4/15\n",
      "500/500 [==============================] - 153s 305ms/step - loss: 0.1608 - categorical_accuracy: 0.9592 - background_recall: 0.9745 - background_precision: 0.9984 - interior_recall: 0.8913 - interior_precision: 0.9937 - boundary_recall: 0.9597 - boundary_precision: 0.5535 - val_loss: 0.1429 - val_categorical_accuracy: 0.9601 - val_background_recall: 0.9746 - val_background_precision: 0.9990 - val_interior_recall: 0.8818 - val_interior_precision: 0.9914 - val_boundary_recall: 0.9695 - val_boundary_precision: 0.5291\n",
      "Epoch 5/15\n",
      "500/500 [==============================] - 153s 306ms/step - loss: 0.1590 - categorical_accuracy: 0.9590 - background_recall: 0.9742 - background_precision: 0.9985 - interior_recall: 0.8915 - interior_precision: 0.9940 - boundary_recall: 0.9610 - boundary_precision: 0.5541 - val_loss: 0.1705 - val_categorical_accuracy: 0.9477 - val_background_recall: 0.9670 - val_background_precision: 0.9988 - val_interior_recall: 0.8564 - val_interior_precision: 0.9949 - val_boundary_recall: 0.9759 - val_boundary_precision: 0.4940\n",
      "Epoch 6/15\n",
      "500/500 [==============================] - 152s 305ms/step - loss: 0.1563 - categorical_accuracy: 0.9593 - background_recall: 0.9744 - background_precision: 0.9985 - interior_recall: 0.8921 - interior_precision: 0.9941 - boundary_recall: 0.9617 - boundary_precision: 0.5556 - val_loss: 0.1520 - val_categorical_accuracy: 0.9650 - val_background_recall: 0.9782 - val_background_precision: 0.9984 - val_interior_recall: 0.9059 - val_interior_precision: 0.9885 - val_boundary_recall: 0.9520 - val_boundary_precision: 0.5800\n",
      "Epoch 7/15\n",
      "500/500 [==============================] - 152s 304ms/step - loss: 0.1537 - categorical_accuracy: 0.9598 - background_recall: 0.9746 - background_precision: 0.9986 - interior_recall: 0.8934 - interior_precision: 0.9944 - boundary_recall: 0.9625 - boundary_precision: 0.5582 - val_loss: 0.1633 - val_categorical_accuracy: 0.9615 - val_background_recall: 0.9747 - val_background_precision: 0.9984 - val_interior_recall: 0.9064 - val_interior_precision: 0.9872 - val_boundary_recall: 0.9573 - val_boundary_precision: 0.5738\n",
      "Epoch 8/15\n",
      "500/500 [==============================] - 152s 304ms/step - loss: 0.1517 - categorical_accuracy: 0.9601 - background_recall: 0.9748 - background_precision: 0.9986 - interior_recall: 0.8942 - interior_precision: 0.9945 - boundary_recall: 0.9635 - boundary_precision: 0.5612 - val_loss: 0.1408 - val_categorical_accuracy: 0.9610 - val_background_recall: 0.9720 - val_background_precision: 0.9993 - val_interior_recall: 0.8992 - val_interior_precision: 0.9890 - val_boundary_recall: 0.9697 - val_boundary_precision: 0.5247\n",
      "Epoch 9/15\n",
      "500/500 [==============================] - 153s 305ms/step - loss: 0.1487 - categorical_accuracy: 0.9606 - background_recall: 0.9752 - background_precision: 0.9987 - interior_recall: 0.8942 - interior_precision: 0.9947 - boundary_recall: 0.9642 - boundary_precision: 0.5613 - val_loss: 0.1476 - val_categorical_accuracy: 0.9627 - val_background_recall: 0.9758 - val_background_precision: 0.9986 - val_interior_recall: 0.9041 - val_interior_precision: 0.9944 - val_boundary_recall: 0.9646 - val_boundary_precision: 0.5739\n",
      "Epoch 10/15\n",
      "500/500 [==============================] - 152s 304ms/step - loss: 0.1471 - categorical_accuracy: 0.9609 - background_recall: 0.9754 - background_precision: 0.9987 - interior_recall: 0.8951 - interior_precision: 0.9948 - boundary_recall: 0.9651 - boundary_precision: 0.5644 - val_loss: 0.1716 - val_categorical_accuracy: 0.9528 - val_background_recall: 0.9672 - val_background_precision: 0.9988 - val_interior_recall: 0.8853 - val_interior_precision: 0.9913 - val_boundary_recall: 0.9666 - val_boundary_precision: 0.5154\n",
      "Epoch 11/15\n",
      "500/500 [==============================] - 152s 305ms/step - loss: 0.1448 - categorical_accuracy: 0.9614 - background_recall: 0.9757 - background_precision: 0.9987 - interior_recall: 0.8969 - interior_precision: 0.9949 - boundary_recall: 0.9662 - boundary_precision: 0.5693 - val_loss: 0.1596 - val_categorical_accuracy: 0.9562 - val_background_recall: 0.9711 - val_background_precision: 0.9988 - val_interior_recall: 0.8823 - val_interior_precision: 0.9913 - val_boundary_recall: 0.9656 - val_boundary_precision: 0.5223\n",
      "Epoch 12/15\n",
      "500/500 [==============================] - 153s 305ms/step - loss: 0.1427 - categorical_accuracy: 0.9617 - background_recall: 0.9758 - background_precision: 0.9988 - interior_recall: 0.8970 - interior_precision: 0.9951 - boundary_recall: 0.9674 - boundary_precision: 0.5697 - val_loss: 0.1462 - val_categorical_accuracy: 0.9645 - val_background_recall: 0.9760 - val_background_precision: 0.9987 - val_interior_recall: 0.9100 - val_interior_precision: 0.9892 - val_boundary_recall: 0.9600 - val_boundary_precision: 0.5749\n",
      "Epoch 13/15\n",
      "500/500 [==============================] - 153s 306ms/step - loss: 0.1406 - categorical_accuracy: 0.9622 - background_recall: 0.9763 - background_precision: 0.9988 - interior_recall: 0.8983 - interior_precision: 0.9951 - boundary_recall: 0.9681 - boundary_precision: 0.5747 - val_loss: 0.1531 - val_categorical_accuracy: 0.9626 - val_background_recall: 0.9732 - val_background_precision: 0.9989 - val_interior_recall: 0.9118 - val_interior_precision: 0.9914 - val_boundary_recall: 0.9581 - val_boundary_precision: 0.5561\n",
      "Epoch 14/15\n",
      "500/500 [==============================] - 153s 306ms/step - loss: 0.1383 - categorical_accuracy: 0.9627 - background_recall: 0.9766 - background_precision: 0.9989 - interior_recall: 0.8989 - interior_precision: 0.9953 - boundary_recall: 0.9690 - boundary_precision: 0.5772 - val_loss: 0.1785 - val_categorical_accuracy: 0.9598 - val_background_recall: 0.9798 - val_background_precision: 0.9974 - val_interior_recall: 0.8737 - val_interior_precision: 0.9915 - val_boundary_recall: 0.9489 - val_boundary_precision: 0.5581\n",
      "Epoch 15/15\n",
      "500/500 [==============================] - 153s 306ms/step - loss: 0.1377 - categorical_accuracy: 0.9628 - background_recall: 0.9767 - background_precision: 0.9989 - interior_recall: 0.8990 - interior_precision: 0.9954 - boundary_recall: 0.9696 - boundary_precision: 0.5782 - val_loss: 0.1615 - val_categorical_accuracy: 0.9616 - val_background_recall: 0.9741 - val_background_precision: 0.9985 - val_interior_recall: 0.9059 - val_interior_precision: 0.9878 - val_boundary_recall: 0.9550 - val_boundary_precision: 0.5650\n",
      "Done! :)\n"
     ]
    }
   ],
   "source": [
    "# TRAIN\n",
    "statistics = model.fit_generator(\n",
    "    generator=train_gen,\n",
    "    steps_per_epoch=config_vars[\"steps_per_epoch\"],\n",
    "    epochs=config_vars[\"epochs\"],\n",
    "    validation_data=val_gen,\n",
    "    validation_steps=int(len(data_partitions[\"validation\"])/config_vars[\"val_batch_size\"]),\n",
    "    callbacks=callbacks,\n",
    "    verbose = 1\n",
    ")\n",
    "\n",
    "model.save_weights(config_vars[\"model_file\"])\n",
    "\n",
    "print('Done! :)')"
   ]
  },
  {
   "cell_type": "code",
   "execution_count": null,
   "metadata": {},
   "outputs": [],
   "source": []
  }
 ],
 "metadata": {
  "kernelspec": {
   "display_name": "Python 3",
   "language": "python",
   "name": "python3"
  },
  "language_info": {
   "codemirror_mode": {
    "name": "ipython",
    "version": 3
   },
   "file_extension": ".py",
   "mimetype": "text/x-python",
   "name": "python",
   "nbconvert_exporter": "python",
   "pygments_lexer": "ipython3",
   "version": "3.6.8"
  }
 },
 "nbformat": 4,
 "nbformat_minor": 2
}
